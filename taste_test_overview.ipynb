{
 "cells": [
  {
   "cell_type": "markdown",
   "metadata": {
    "slideshow": {
     "slide_type": "slide"
    }
   },
   "source": [
    "# The Data Science Taste Test - Overview\n",
    "#### Hands-on Introduction to Data Science with Python"
   ]
  },
  {
   "cell_type": "markdown",
   "metadata": {
    "slideshow": {
     "slide_type": "slide"
    }
   },
   "source": [
    "## Outline\n",
    "\n",
    "### 1. The Purpose of this Talk\n",
    "- Why I'm doing this\n",
    "- Why data science, why python?\n",
    "- What you'll need to participate\n",
    "\n",
    "### 2. Data Science Today\n",
    "- Roles & Responsibilities\n",
    "- State of the Market\n",
    "- The Data Science Pipeline\n",
    " \n",
    "### 3. The Data Science Workflow (General Assembly)\n",
    "- Frame - Problems & Hypotheses \n",
    "- Prepare - Ingestion & Cleaning\n",
    "- Analyze - Studying the Data\n",
    "- Interpret - Inference & Prediction\n",
    "- Communicate/Deploy - Enabling Decisions\n",
    "\n",
    "### _~Learning Resources for YOU!~_"
   ]
  },
  {
   "cell_type": "markdown",
   "metadata": {},
   "source": [
    "## 1 - Purpose"
   ]
  },
  {
   "cell_type": "markdown",
   "metadata": {},
   "source": [
    "![Start with Why Diagram](./assets/why.png \"Simon Sinek advises that we should first think about why we're trying to solve a particular problem.\")\n",
    "\n",
    "[Watch Simon Sinek's full presenation here](https://www.ted.com/talks/simon_sinek_how_great_leaders_inspire_action?language=en)"
   ]
  },
  {
   "cell_type": "markdown",
   "metadata": {},
   "source": [
    "### Why I'm Doing This\n",
    "\n"
   ]
  },
  {
   "cell_type": "markdown",
   "metadata": {},
   "source": [
    "![How I Started](./assets/phone.png \"My career began in sales.\")"
   ]
  },
  {
   "cell_type": "markdown",
   "metadata": {},
   "source": [
    "In the olden days I was a Sales Development Representative, which is a telemarketer with more even more syllables. The task was to call on hospitals and get them interested in the latest and greatest in technology to engage patients in their care.\n",
    "\n",
    "Over time, that role evolved into operations management. This involved analyzing sales data to help the sales team make the best decisions concerning outreach, strategy, and what have you. It also reignited my college love affair with economics."
   ]
  },
  {
   "cell_type": "markdown",
   "metadata": {},
   "source": [
    "![books](./assets/books.png \"I highly recommend Freakonomics, Everybody Lies, and The Book of Why for inspiration to go down this path\")"
   ]
  },
  {
   "cell_type": "markdown",
   "metadata": {},
   "source": [
    "Our generous organizer, Nick Sanford, taught me enough Excel to be dangerous, and books like these were a heavy influence before and during my transition into data science. I strongly encourage you check them out! \n",
    "\n",
    "As the focus shifted from sales into analytics, and as the team demanded more in terms of speed, quantity of data, and inferential/predictive capabilities, picking up data science skills & platforms simply made sense. "
   ]
  },
  {
   "cell_type": "markdown",
   "metadata": {},
   "source": [
    "![Eliud Kipchoge](./assets/eliud.png \"Eliud Kipchoge, first human being to run 26.2 miles in under 2 hours\")"
   ]
  },
  {
   "cell_type": "markdown",
   "metadata": {},
   "source": [
    "The transition to data science using Python went exactly like this:\n",
    "- \"Hello, General Assembly, I've never coded before and I'm terrified, but I'd like to give this data science course a try\"\n",
    "- While taking the course, replaced Excel tasks with Python workflows\n",
    " - Built classifier algorithm to identify health systems team should target\n",
    " - Used text mining to find millions of dollars mislabeled revenues\n",
    " - Automated a major conversion effort between CRMs\n",
    "- Prior company sold, I fell victim to layoff\n",
    "- Created a consultative data science position at a new organization\n",
    "- Now work with healthcare systems on all sorts of interesting challenges as well as teach for General Assembly!\n",
    "\n",
    "![Work](./assets/work.png \"Shows the places I work, SymphonyRM and General Assembly\")"
   ]
  },
  {
   "cell_type": "markdown",
   "metadata": {},
   "source": [
    "![Black Hole](./assets/blackhole.png \"Katie Bouman & team were experts in a field of artificial intelligence called 'Computer Vision,' which is concerned with getting computers to see.\")"
   ]
  },
  {
   "cell_type": "markdown",
   "metadata": {},
   "source": [
    "Now I'm here to tell you that if you're interested enough and passionate about the problems you're solving, you can do it too!\n",
    "\n",
    "### Why Python?\n",
    "\n",
    "What we're witnessing when we see marvels like self driving cars, sub-2 hour marathons, or visualized black hole is really the effort of a largely open-source community. It's a bunch of people trying stuff out and talking to each other. A key way they do this is through Jupyter Notebooks, such as the one you're using right now. In fact, the code used to visualize the Black Hole? It's right here: [VLBI Code](https://github.com/achael/eht-imaging).\n",
    "\n",
    "This community has helped me do better work than I thought I could ever do, and to pay it forward, I want to share this opportunity with you. "
   ]
  },
  {
   "cell_type": "markdown",
   "metadata": {},
   "source": [
    "By running throught this in Python, it's putting your hands on the most popular language for doing data science and putting models into production.\n",
    "\n",
    "Even if you've never coded before, this is intended to get your hands on it just so that you're not in completely unfamiliar territory should you decided to go down this path. Hands-on experience will make coding much less intimidating. "
   ]
  },
  {
   "cell_type": "markdown",
   "metadata": {},
   "source": [
    "### What You'll Need\n",
    "\n",
    "If you're reading this on your own computer you're pretty close!\n",
    "\n",
    "#### The Basics\n",
    "- Computer with at least 8gb RAM, preferrably a MacBook Pro\n",
    "- Anaconda - A distribution package that installs Python, Jupyter Lab, and the most common data science libraries: [Download it here.](https://www.anaconda.com/distribution/)\n",
    "\n",
    "#### For Interactive Visualization with hvplot\n",
    "Run these two lines in your command prompt:\n",
    "\n",
    "- conda install jupyterlab\n",
    "- jupyter labextension install @pyviz/jupyterlab_pyviz\n"
   ]
  },
  {
   "cell_type": "markdown",
   "metadata": {},
   "source": [
    "## 2 - Data Science Today"
   ]
  },
  {
   "cell_type": "markdown",
   "metadata": {},
   "source": [
    "![Data Science Venn Diagram](./assets/venn.png \"This Venn Diagram shows data science as the intersection between hacking skills, substantiative expertise, and math expertise\")"
   ]
  },
  {
   "cell_type": "markdown",
   "metadata": {},
   "source": [
    "You'll commonly see this or a similar Venn Diagram describing the role of data science. There are pros and cons to this view. \n",
    "\n",
    "The pro is that this is a great sum of what you need to offer value to a data science organization:\n",
    "- **Hacking Skills**: The ability to write production-ready code that's well works, is thoroughly commented and documented, and is robust to bugs & real-world challenges\n",
    "- **Math & Statistics Knowledge**: Understanding the math and statistics well enough to know which algorithms to use in various situations and how they work\n",
    "- **Substantative Expertise**: Deep knowledge of the field (chemistry, biology, healthcare, etc.) for which you are solving problems\n",
    "\n",
    "The con is that it doesn't go deep enough into what a data scientist actually does.\n",
    "\n",
    "Fortunately, Google's Chief Decision Intelligence Officer, [Cassie Kozyrkov](https://twitter.com/quaesita), has got you covered. She is one of the most prolific writers & speakers on introductory AI material, statistical material, and strategic thinking around managing AI teams. A GREAT person to follow. \n",
    "\n",
    "From her [What on Earth is Data Science?](https://hackernoon.com/what-on-earth-is-data-science-eb1237d8cb37?source=post_page-----1e73b9c7682----------------------) article: "
   ]
  },
  {
   "cell_type": "markdown",
   "metadata": {},
   "source": [
    "![Data Science Decision Tree](./assets/decisions.png \"Cassie Kozyrkov shows when to use Machine Learning vs Statistics vs Analytics\")"
   ]
  },
  {
   "cell_type": "markdown",
   "metadata": {},
   "source": [
    "\"Data science is the discipline of making data useful.\"\n",
    "\n",
    "This flow chart takes it a layer deeper to help understand what might be in a data scientist's day to day. Each of those paths terminates in either _Data Analytics, Statistics, or Machine Learning:_ \n",
    "- **Data Analytics**: Goes deep in understanding, cleaning, and manipulating what's in the data. Finds patterns and posits hypotheses. Identifies opportunities for further research\n",
    "- **Statistics**: Makes inferences and predictions using data. Best to be engaged early on in order to design experiments that truly identify causal relationships\n",
    "- **Machine Learning**: Uses large data sets to train computers to make decisions such as which product to show a site visitor or which name to auto-tag to a Facebook photo\n",
    "\n",
    "In reality, different teams have different levels of specialization. You may have roles that demand more analytics heavy players or people who are specifically machine learning engineers. You may also have roles where you're asked to do all three along with other tasks such as data engineering pipelines or ETL! Defining data science can get slippery, but this is a great chart to keep in mind. "
   ]
  },
  {
   "cell_type": "markdown",
   "metadata": {},
   "source": [
    "### State of the Market\n",
    "![State of Market](./assets/stateofmarket.png \"Chart shows rising interest over time for Data Science & Machine Learning\")\n",
    "![Key](./assets/key.png)\n",
    "- Source: Google Trends"
   ]
  },
  {
   "cell_type": "markdown",
   "metadata": {},
   "source": [
    "Interest in data science and machine learning continue to grow over time.\n",
    "\n",
    "This is just conjecture, but hear me out...\n",
    "\n",
    "![Global Datasphere](./assets/global_datasphere.png \"The rate at which we produce data is growing exponentially.\")"
   ]
  },
  {
   "cell_type": "markdown",
   "metadata": {},
   "source": [
    "We've got the amount of data we're producing growing exponentially, and leaders are now learning that data can help drive better decisions. The greater availability of data leads to more and more instances of Cassie's Data Science Adventure flowchart above. The data is growing, and there's a shortage of people who are able to mine insights, predictions, and decisions.\n",
    "\n",
    "There's a need to vet & deliver all these data driven analyses, recommendations, and machines. How do research institutions and companies put this into place?"
   ]
  },
  {
   "cell_type": "markdown",
   "metadata": {},
   "source": [
    "### The Data Science Pipeline\n",
    "\n",
    "There's no one data science pipeline universally accepted by all. This depends on organizational culture, but it's good to have some baselines in mind. For instance, General Assembly teaches this framework:\n",
    "\n",
    "![General Assembly Approach](./assets/general_assembly_pipeline.png \"General Assembly's Frame, Prepare, Analyze, Interpret, Communicate framework\")\n",
    "\n",
    "This is a great overall approach that can fit into any culture. The emphasis here is on presenting insights learned from data science techniques in order to make decisions. Other scenarios might call to get data science models into a live production environment where they're making decisions for users in real time. Think about how Netflix anticipates what movies you'd like to watch or your phone predicts messages. These might call for a different, albeit similar concept.\n",
    "\n",
    "![CRISP-DM Approach](./assets/CRISP-DM.jpg)\n",
    "\n",
    "How are these approaches similar?\n",
    "\n",
    "How are they different?"
   ]
  },
  {
   "cell_type": "markdown",
   "metadata": {},
   "source": [
    "### Conclusion and Transition\n",
    "\n",
    "It's time to get our hands dirty and dive into some data. This is a taste test. The notebook is designed for you to be able to follow along and to be able to play with parameters in the code even if you don't have any background. Yes, you'll break things and get headaches, but if you go down this path, you'll be doing that for the rest of your life. \n",
    "\n",
    "The next notebook will walk us through a pipeline similar to the General Aseembly example above. "
   ]
  }
 ],
 "metadata": {
  "celltoolbar": "Slideshow",
  "kernelspec": {
   "display_name": "Python 3",
   "language": "python",
   "name": "python3"
  },
  "language_info": {
   "codemirror_mode": {
    "name": "ipython",
    "version": 3
   },
   "file_extension": ".py",
   "mimetype": "text/x-python",
   "name": "python",
   "nbconvert_exporter": "python",
   "pygments_lexer": "ipython3",
   "version": "3.7.3"
  }
 },
 "nbformat": 4,
 "nbformat_minor": 2
}
